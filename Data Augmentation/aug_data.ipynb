{
 "cells": [
  {
   "cell_type": "code",
   "execution_count": null,
   "source": [
    "# 回译\r\n",
    "from pygtrans import Translate\r\n",
    "\r\n",
    "def backTran(wordss):\r\n",
    "    client = Translate()\r\n",
    "    text1 = client.translate(wordss)\r\n",
    "\r\n",
    "    text2 = client.translate(text1.translatedText, target='en')\r\n",
    "    return text2.translatedText"
   ],
   "outputs": [],
   "metadata": {}
  },
  {
   "cell_type": "code",
   "execution_count": null,
   "source": [
    "#同义词替换\r\n",
    "from nltk.corpus import stopwords#引入停用词，因为对停用词进行数据增强相当于没有增强\r\n",
    "from nltk.corpus import wordnet as wn#引入同义词\r\n",
    "import random\r\n",
    "stop_words=stopwords.words('english')\r\n",
    "for w in ['!',',','.','?','-s','-ly','</s>','s']:\r\n",
    "    stop_words.add(w)\r\n",
    "   \r\n",
    "#这里传入的words是一个列表,\r\n",
    "#eg:\"hello world\".split(\" \") or [\"hello\",\"world\"]\r\n",
    "def synonym_replacement(words):\r\n",
    "    new_words = words.copy()\r\n",
    "    n=len(words)/4\r\n",
    "    random_word_list = list(set([word for word in words if word not in stop_words]))     \r\n",
    "    random.shuffle(random_word_list)\r\n",
    "    num_replaced = 0  \r\n",
    "    for random_word in random_word_list:          \r\n",
    "        synonyms = get_synonyms(random_word)\r\n",
    "        if len(synonyms) >= 1:\r\n",
    "            synonym = random.choice(synonyms)   \r\n",
    "            new_words = [synonym if word == random_word else word for word in new_words]   \r\n",
    "            num_replaced += 1\r\n",
    "        if num_replaced >= n: \r\n",
    "            break\r\n",
    "\r\n",
    "    sentence = ' '.join(new_words)\r\n",
    "    new_words = sentence.split(' ')\r\n",
    "\r\n",
    "    return \" \".join(new_words)\r\n",
    "\r\n",
    "#获取同义词\r\n",
    "def get_synonyms(word):\r\n",
    "    nearbyWordSet=wn.synsets(word)\r\n",
    "    return nearbyWordSet[0].lemma_names()"
   ],
   "outputs": [],
   "metadata": {}
  },
  {
   "cell_type": "code",
   "execution_count": 5,
   "source": [
    "########################################################################\r\n",
    "# 随机插入\r\n",
    "# 随机在语句中插入n个词\r\n",
    "########################################################################\r\n",
    "#这里传入的words是一个列表,\r\n",
    "#eg:\"hello world\".split(\" \") or [\"hello\",\"world\"]\r\n",
    "def random_insertion(words):\r\n",
    "    new_words = words.copy()\r\n",
    "    n=len(new_words)/n\r\n",
    "    for _ in range(n):\r\n",
    "        add_word(new_words)\r\n",
    "    return \" \".join(new_words)\r\n",
    "#插入单词，这里插入随机挑选的单词的同义词\r\n",
    "def add_word(new_words):\r\n",
    "    synonyms = []\r\n",
    "    counter = 0    \r\n",
    "    while len(synonyms) < 1:\r\n",
    "        random_word = new_words[random.randint(0, len(new_words)-1)]\r\n",
    "        synonyms = get_synonyms(random_word)\r\n",
    "        counter += 1\r\n",
    "        if counter >= 10:\r\n",
    "            return\r\n",
    "    random_synonym = random.choice(synonyms)\r\n",
    "    random_idx = random.randint(0, len(new_words)-1)\r\n",
    "    new_words.insert(random_idx, random_synonym)\r\n"
   ],
   "outputs": [
    {
     "output_type": "stream",
     "name": "stdout",
     "text": [
      "None\n",
      "peope\n",
      "likee\n"
     ]
    }
   ],
   "metadata": {}
  },
  {
   "cell_type": "code",
   "execution_count": null,
   "source": [
    "########################################################################\r\n",
    "# 随机交换\r\n",
    "# 随机交换几次\r\n",
    "########################################################################\r\n",
    "#这里传入的words是一个列表,\r\n",
    "#eg:\"hello world\".split(\" \") or [\"hello\",\"world\"]\r\n",
    "def random_swap(words):\r\n",
    "    new_words = words.copy()\r\n",
    "    n=len(new_words)/4\r\n",
    "    for _ in range(n):\r\n",
    "        new_words = swap_word(new_words)\r\n",
    "    return \" \".join(new_words)\r\n",
    "\r\n",
    "def swap_word(new_words):\r\n",
    "    random_idx_1 = random.randint(0, len(new_words)-1)\r\n",
    "    random_idx_2 = random_idx_1\r\n",
    "    counter = 0\r\n",
    "    while random_idx_2 == random_idx_1:\r\n",
    "        random_idx_2 = random.randint(0, len(new_words)-1)\r\n",
    "        counter += 1\r\n",
    "        if counter > 3:\r\n",
    "            return new_words\r\n",
    "    new_words[random_idx_1], new_words[random_idx_2] = new_words[random_idx_2], new_words[random_idx_1] \r\n",
    "    return new_words\r\n"
   ],
   "outputs": [],
   "metadata": {}
  },
  {
   "cell_type": "code",
   "execution_count": null,
   "source": [
    "########################################################################\r\n",
    "# 随机删除\r\n",
    "# 以概率p删除语句中的词\r\n",
    "########################################################################\r\n",
    "#这里传入的words是一个列表,\r\n",
    "#eg:\"hello world\".split(\" \") or [\"hello\",\"world\"]\r\n",
    "def random_deletion(words):\r\n",
    "\r\n",
    "    if len(words) == 1:\r\n",
    "        return words\r\n",
    "\r\n",
    "    new_words = []\r\n",
    "    for word in words:\r\n",
    "        r = random.uniform(0, 1)\r\n",
    "        if r > 0.25:\r\n",
    "            new_words.append(word)\r\n",
    "\r\n",
    "    if len(new_words) == 0:\r\n",
    "        rand_int = random.randint(0, len(words)-1)\r\n",
    "        return [words[rand_int]]\r\n",
    "\r\n",
    "    return \" \".join(new_words)"
   ],
   "outputs": [],
   "metadata": {}
  },
  {
   "cell_type": "code",
   "execution_count": 7,
   "source": [
    "def getEda(df,func):\r\n",
    "    title=df.title.tolist()\r\n",
    "    abstract=df.abstract.tolist()\r\n",
    "    categories=df.categories.tolist()\r\n",
    "    len1=len(title)\r\n",
    "    exTitle=[]\r\n",
    "    exabs=[]\r\n",
    "    excat=[]\r\n",
    "    for i in range(len1):\r\n",
    "        lentitle=len(title[i])\r\n",
    "        lenabstrct=len(abstract[i])\r\n",
    "        txtitle=func(title[i].split(\" \"))#这里可以换随机插入，同义词替换，随机删除，随机交换的函数\r\n",
    "        txabs=func(abstract[i].split(\" \"))#但是传入的时候用split()函数分割成一个list\r\n",
    "        if i%1000==0:\r\n",
    "            print(i)\r\n",
    "        exTitle.append(txtitle)\r\n",
    "        exabs.append(txabs)\r\n",
    "        excat.append(categories[i])  \r\n",
    "    return exTitle,exabs,excat"
   ],
   "outputs": [],
   "metadata": {}
  },
  {
   "cell_type": "code",
   "execution_count": 36,
   "source": [
    "def getBackTran(df,func):\r\n",
    "    title=df.title.tolist()\r\n",
    "    abstract=df.abstract.tolist()\r\n",
    "    categories=df.categories.tolist()\r\n",
    "    len1=len(title)\r\n",
    "    exTitle=[]\r\n",
    "    exabs=[]\r\n",
    "    excat=[]\r\n",
    "    for i in range(len1):\r\n",
    "        lentitle=len(title[i])\r\n",
    "        lenabstrct=len(abstract[i])\r\n",
    "        txtitle=func(title[i])#这里可以换随机插入，同义词替换，随机删除，随机交换的函数\r\n",
    "        txabs=func(abstract[i])#但是传入的时候用split()函数分割成一个list\r\n",
    "        if i%1000==0:\r\n",
    "            print(i)\r\n",
    "        exTitle.append(txtitle)\r\n",
    "        exabs.append(txabs)\r\n",
    "        excat.append(categories[i])  \r\n",
    "    return exTitle,exabs,excat"
   ],
   "outputs": [
    {
     "output_type": "execute_result",
     "data": {
      "text/plain": [
       "'Effect of different substrates on Compact stacked square Microstrip\\n  Antenna'"
      ]
     },
     "metadata": {},
     "execution_count": 36
    }
   ],
   "metadata": {}
  },
  {
   "cell_type": "code",
   "execution_count": 37,
   "source": [
    "#读取数据\r\n",
    "import pandas as pd\r\n",
    "import numpy as np\r\n",
    "df=pd.read_csv(\"./train.csv\".sep='\\t')"
   ],
   "outputs": [],
   "metadata": {}
  },
  {
   "cell_type": "code",
   "execution_count": 23,
   "source": [
    "edaData=df.sample(frac=1.0)"
   ],
   "outputs": [],
   "metadata": {}
  },
  {
   "cell_type": "code",
   "execution_count": 34,
   "source": [
    "#划分数据\r\n",
    "eda1=edaData[0:12500]\r\n",
    "\r\n",
    "eda2=edaData[12500:25000]\r\n",
    "\r\n",
    "eda3=edaData[25000:37500]\r\n",
    "\r\n",
    "eda4=edaData[37500:50000]\r\n"
   ],
   "outputs": [],
   "metadata": {}
  },
  {
   "cell_type": "code",
   "execution_count": null,
   "source": [],
   "outputs": [],
   "metadata": {}
  },
  {
   "cell_type": "code",
   "execution_count": 38,
   "source": [
    "#分别使用不同的方法来扩增数据\r\n",
    "extitle,exabstract,txtype=getEda(eda1,synonym_replacement)\r\n",
    "edaData['title'].extend(extitle)\r\n",
    "edaData['abstract'].extend(extitle)\r\n",
    "edaData['categories'].extend(txtype)\r\n",
    "extitle,exabstract,txtype=getEda(eda2,random_insertion)\r\n",
    "edaData['title'].extend(extitle)\r\n",
    "edaData['abstract'].extend(extitle)\r\n",
    "edaData['categories'].extend(txtype)\r\n",
    "extitle,exabstract,txtype=getEda(eda3,random_swap)\r\n",
    "edaData['title'].extend(extitle)\r\n",
    "edaData['abstract'].extend(extitle)\r\n",
    "edaData['categories'].extend(txtype)\r\n",
    "extitle,exabstract,txtype=getEda(eda4,random_deletion)\r\n",
    "edaData['title'].extend(extitle)\r\n",
    "edaData['abstract'].extend(extitle)\r\n",
    "edaData['categories'].extend(txtype)"
   ],
   "outputs": [],
   "metadata": {}
  },
  {
   "cell_type": "code",
   "execution_count": null,
   "source": [
    "#封装数据\r\n",
    "edaData.to_csv(\"./edaData.csv\")"
   ],
   "outputs": [],
   "metadata": {}
  },
  {
   "cell_type": "code",
   "execution_count": null,
   "source": [
    "#回译\r\n",
    "df=pd.read_csv(\"./trian.csv\",sep='\\t')\r\n",
    "extitle,exabstract,extype=getBackTran(df,backTran)\r\n",
    "df['title'].extend(extitle)\r\n",
    "df['abstract'].extend(extitle)\r\n",
    "df['categories'].extend(extype)"
   ],
   "outputs": [],
   "metadata": {}
  }
 ],
 "metadata": {
  "orig_nbformat": 4,
  "language_info": {
   "name": "python",
   "version": "3.7.6",
   "mimetype": "text/x-python",
   "codemirror_mode": {
    "name": "ipython",
    "version": 3
   },
   "pygments_lexer": "ipython3",
   "nbconvert_exporter": "python",
   "file_extension": ".py"
  },
  "kernelspec": {
   "name": "python3",
   "display_name": "Python 3.7.6 64-bit ('base': conda)"
  },
  "interpreter": {
   "hash": "8d86c190dfcadcdaa67edec4a1ea82702241987b5b1f320c920d3d4ca36fee5b"
  }
 },
 "nbformat": 4,
 "nbformat_minor": 2
}