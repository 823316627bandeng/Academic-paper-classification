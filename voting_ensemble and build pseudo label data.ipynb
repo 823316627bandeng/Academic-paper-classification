{
 "cells": [
  {
   "cell_type": "code",
   "execution_count": 33,
   "metadata": {},
   "outputs": [],
   "source": [
    "import pandas as pd\n",
    "import numpy as np\n",
    "import os\n",
    "from pprint import pprint"
   ]
  },
  {
   "cell_type": "markdown",
   "metadata": {},
   "source": [
    "# 1 加载数据"
   ]
  },
  {
   "cell_type": "code",
   "execution_count": 34,
   "metadata": {},
   "outputs": [
    {
     "name": "stdout",
     "output_type": "stream",
     "text": [
      "14\n",
      "['e_ml_79.csv',\n",
      " 'a_bert_base_8162.csv',\n",
      " 'p_textrnn_7936.csv',\n",
      " 'a_bert_base_8048.csv',\n",
      " 'c_bert_large_8119.csv',\n",
      " 'c_bert_large_8115.csv',\n",
      " 'd_robert_base_8098.csv',\n",
      " 'b_robert_large_8246-1.csv',\n",
      " 'b_robert_large_8123.csv',\n",
      " 'h_textcnn_8078.csv',\n",
      " 'c_bert_large_8171.csv',\n",
      " 'a_bert_base_8008.csv',\n",
      " 'b_robert_large_8125.csv',\n",
      " 'o_fasttext_8070.csv']\n"
     ]
    }
   ],
   "source": [
    "DATA_DIR = './submit/'\n",
    "files = os.listdir(DATA_DIR)\n",
    "files = [i for i in files if i[0]!='.']\n",
    "print(len(files))\n",
    "pprint(files)"
   ]
  },
  {
   "cell_type": "code",
   "execution_count": 35,
   "metadata": {},
   "outputs": [],
   "source": [
    "train = pd.read_csv('./data/train.csv', sep='\\t')\n",
    "#将标签进行转换\n",
    "label_id2cate = dict(enumerate(train.categories.unique()))\n",
    "label_cate2id = {value: key for key, value in label_id2cate.items()}"
   ]
  },
  {
   "cell_type": "code",
   "execution_count": 36,
   "metadata": {},
   "outputs": [
    {
     "data": {
      "text/html": [
       "<div>\n",
       "<style scoped>\n",
       "    .dataframe tbody tr th:only-of-type {\n",
       "        vertical-align: middle;\n",
       "    }\n",
       "\n",
       "    .dataframe tbody tr th {\n",
       "        vertical-align: top;\n",
       "    }\n",
       "\n",
       "    .dataframe thead th {\n",
       "        text-align: right;\n",
       "    }\n",
       "</style>\n",
       "<table border=\"1\" class=\"dataframe\">\n",
       "  <thead>\n",
       "    <tr style=\"text-align: right;\">\n",
       "      <th></th>\n",
       "      <th>paperid</th>\n",
       "      <th>label_x</th>\n",
       "      <th>label_y</th>\n",
       "      <th>label_x</th>\n",
       "      <th>label_y</th>\n",
       "      <th>label_x</th>\n",
       "      <th>label_y</th>\n",
       "      <th>label_x</th>\n",
       "      <th>label_y</th>\n",
       "      <th>label_x</th>\n",
       "      <th>label_y</th>\n",
       "      <th>label_x</th>\n",
       "      <th>label_y</th>\n",
       "      <th>label_x</th>\n",
       "      <th>label_y</th>\n",
       "    </tr>\n",
       "  </thead>\n",
       "  <tbody>\n",
       "    <tr>\n",
       "      <th>0</th>\n",
       "      <td>test_00000</td>\n",
       "      <td>13</td>\n",
       "      <td>13</td>\n",
       "      <td>13</td>\n",
       "      <td>13</td>\n",
       "      <td>13</td>\n",
       "      <td>13</td>\n",
       "      <td>13</td>\n",
       "      <td>13</td>\n",
       "      <td>13</td>\n",
       "      <td>13</td>\n",
       "      <td>13</td>\n",
       "      <td>13</td>\n",
       "      <td>13</td>\n",
       "      <td>13</td>\n",
       "    </tr>\n",
       "    <tr>\n",
       "      <th>1</th>\n",
       "      <td>test_00001</td>\n",
       "      <td>13</td>\n",
       "      <td>13</td>\n",
       "      <td>13</td>\n",
       "      <td>13</td>\n",
       "      <td>13</td>\n",
       "      <td>13</td>\n",
       "      <td>13</td>\n",
       "      <td>13</td>\n",
       "      <td>13</td>\n",
       "      <td>13</td>\n",
       "      <td>13</td>\n",
       "      <td>13</td>\n",
       "      <td>13</td>\n",
       "      <td>13</td>\n",
       "    </tr>\n",
       "    <tr>\n",
       "      <th>2</th>\n",
       "      <td>test_00002</td>\n",
       "      <td>12</td>\n",
       "      <td>6</td>\n",
       "      <td>6</td>\n",
       "      <td>6</td>\n",
       "      <td>6</td>\n",
       "      <td>6</td>\n",
       "      <td>6</td>\n",
       "      <td>6</td>\n",
       "      <td>6</td>\n",
       "      <td>6</td>\n",
       "      <td>6</td>\n",
       "      <td>6</td>\n",
       "      <td>6</td>\n",
       "      <td>6</td>\n",
       "    </tr>\n",
       "    <tr>\n",
       "      <th>3</th>\n",
       "      <td>test_00003</td>\n",
       "      <td>14</td>\n",
       "      <td>14</td>\n",
       "      <td>14</td>\n",
       "      <td>14</td>\n",
       "      <td>14</td>\n",
       "      <td>14</td>\n",
       "      <td>14</td>\n",
       "      <td>14</td>\n",
       "      <td>14</td>\n",
       "      <td>14</td>\n",
       "      <td>14</td>\n",
       "      <td>14</td>\n",
       "      <td>14</td>\n",
       "      <td>14</td>\n",
       "    </tr>\n",
       "    <tr>\n",
       "      <th>4</th>\n",
       "      <td>test_00004</td>\n",
       "      <td>16</td>\n",
       "      <td>16</td>\n",
       "      <td>16</td>\n",
       "      <td>16</td>\n",
       "      <td>16</td>\n",
       "      <td>16</td>\n",
       "      <td>16</td>\n",
       "      <td>16</td>\n",
       "      <td>16</td>\n",
       "      <td>16</td>\n",
       "      <td>16</td>\n",
       "      <td>16</td>\n",
       "      <td>16</td>\n",
       "      <td>16</td>\n",
       "    </tr>\n",
       "  </tbody>\n",
       "</table>\n",
       "</div>"
      ],
      "text/plain": [
       "      paperid  label_x  label_y  label_x  label_y  label_x  label_y  label_x  \\\n",
       "0  test_00000       13       13       13       13       13       13       13   \n",
       "1  test_00001       13       13       13       13       13       13       13   \n",
       "2  test_00002       12        6        6        6        6        6        6   \n",
       "3  test_00003       14       14       14       14       14       14       14   \n",
       "4  test_00004       16       16       16       16       16       16       16   \n",
       "\n",
       "   label_y  label_x  label_y  label_x  label_y  label_x  label_y  \n",
       "0       13       13       13       13       13       13       13  \n",
       "1       13       13       13       13       13       13       13  \n",
       "2        6        6        6        6        6        6        6  \n",
       "3       14       14       14       14       14       14       14  \n",
       "4       16       16       16       16       16       16       16  "
      ]
     },
     "execution_count": 36,
     "metadata": {},
     "output_type": "execute_result"
    }
   ],
   "source": [
    "# 合并所有结果\n",
    "sub_exp_df = pd.read_csv('./data/sample_submit.csv')\n",
    "df_merged = sub_exp_df.drop(['categories'], axis=1)\n",
    "for file in files:\n",
    "    tmp_df = pd.read_csv(DATA_DIR + file)\n",
    "    tmp_df['label'] = tmp_df['categories'].map(label_cate2id)\n",
    "    tmp_df = tmp_df.drop(['categories'], axis=1)\n",
    "    df_merged = df_merged.merge(tmp_df, how='left', on='paperid')\n",
    "df_merged.head()"
   ]
  },
  {
   "cell_type": "markdown",
   "metadata": {},
   "source": [
    "# 2 投票融合"
   ]
  },
  {
   "cell_type": "code",
   "execution_count": 37,
   "metadata": {},
   "outputs": [],
   "source": [
    "# 计票\n",
    "def work(pres):\n",
    "    count = [0]*39\n",
    "    for i in pres:\n",
    "        count[i] += 1\n",
    "    out = count.index(max(count))\n",
    "    return out"
   ]
  },
  {
   "cell_type": "code",
   "execution_count": 38,
   "metadata": {},
   "outputs": [],
   "source": [
    "tmp_arr = np.array(df_merged.iloc[:,1:])\n",
    "label_voted = [work(line) for line in tmp_arr]"
   ]
  },
  {
   "cell_type": "code",
   "execution_count": 40,
   "metadata": {},
   "outputs": [],
   "source": [
    "model_name = \"voting-14model-3abc-d-e-h-o-ptest2\"\n",
    "sub_exp_df['categories'] = label_voted\n",
    "sub_exp_df['categories'] = sub_exp_df['categories'].map(label_id2cate)\n",
    "sub_exp_df.to_csv('./voting_data/submit_{}.csv'.format(model_name), index=False)"
   ]
  },
  {
   "cell_type": "code",
   "execution_count": null,
   "metadata": {},
   "outputs": [],
   "source": [
    "sub_exp_df.head()"
   ]
  },
  {
   "cell_type": "markdown",
   "metadata": {},
   "source": [
    "# 3 构造高质量伪标签"
   ]
  },
  {
   "cell_type": "code",
   "execution_count": null,
   "metadata": {},
   "outputs": [],
   "source": [
    "# 计票\n",
    "def work_high(pres):\n",
    "    count = [0]*39\n",
    "    for i in pres:\n",
    "        count[i] += 1\n",
    "    p = 11# 该数字根据融合的文件自定义的，如果有11个文件，设该值为11表示，11个结果都投票才可以作为伪标签数据\n",
    "    if max(count) >p:\n",
    "        out = count.index(max(count))\n",
    "    else:\n",
    "        out = -1\n",
    "    return out\n",
    "\n",
    "tmp_arr = np.array(df_merged.iloc[:,1:])\n",
    "label_voted = [work_high(line) for line in tmp_arr]\n",
    "# 没有做伪标签的数据数量\n",
    "print(label_voted.count(-1))"
   ]
  },
  {
   "cell_type": "code",
   "execution_count": null,
   "metadata": {},
   "outputs": [],
   "source": [
    "test_data = train = pd.read_csv('./data/test.csv', sep='\\t')\n",
    "test_data['categories'] = label_voted"
   ]
  },
  {
   "cell_type": "code",
   "execution_count": null,
   "metadata": {},
   "outputs": [],
   "source": [
    "# 删除不能作为伪标签的数据\n",
    "test_data = test_data.drop(test_data[test_data['categories']==-1].index)\n",
    "len(test_data)"
   ]
  },
  {
   "cell_type": "code",
   "execution_count": null,
   "metadata": {},
   "outputs": [],
   "source": [
    "# 反编码映射\n",
    "model_name = \"pseudo_label_data\"\n",
    "test_data['categories'] = test_data['categories'].map(label_id2cate)\n",
    "test_data"
   ]
  },
  {
   "cell_type": "code",
   "execution_count": null,
   "metadata": {},
   "outputs": [],
   "source": [
    "# 读取原始训练集\n",
    "pseudo_train = pd.read_csv('./data/train.csv',sep=\"\\t\")"
   ]
  },
  {
   "cell_type": "code",
   "execution_count": null,
   "metadata": {},
   "outputs": [],
   "source": [
    "# 合并原始训练集和伪标签数据\n",
    "pseudo_label_train = pd.concat([pseudo_train,test_data])\n",
    "model_name = \"./data/pseudo_train_data\"\n",
    "pseudo_label_train.to_csv('{}.csv'.format(model_name),sep=\"\\t\", index=False)"
   ]
  }
 ],
 "metadata": {
  "interpreter": {
   "hash": "d0af45aabaa4bdc75d90fcfc8fc229e38c92ba6df4ad10e64e4ab597fb95609a"
  },
  "kernelspec": {
   "display_name": "Python 3.8.5 64-bit ('base': conda)",
   "name": "python3"
  },
  "language_info": {
   "name": "python",
   "version": ""
  }
 },
 "nbformat": 4,
 "nbformat_minor": 4
}